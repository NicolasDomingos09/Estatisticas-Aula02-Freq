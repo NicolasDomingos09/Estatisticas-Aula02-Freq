{
 "cells": [
  {
   "cell_type": "code",
   "metadata": {
    "executionInfo": {
     "elapsed": 1366,
     "status": "ok",
     "timestamp": 1724270751568,
     "user": {
      "displayName": "Nicolas Domingos da Silva (uN1CK)",
      "userId": "17516801278767574834"
     },
     "user_tz": 180
    },
    "id": "fqYX-f9mhUU6"
   },
   "source": [
    "import numpy as np\n",
    "import pandas as pd\n",
    "import os \n",
    "from collections import Counter"
   ],
   "outputs": [],
   "execution_count": null
  },
  {
   "cell_type": "code",
   "metadata": {
    "executionInfo": {
     "elapsed": 3,
     "status": "ok",
     "timestamp": 1724270753138,
     "user": {
      "displayName": "Nicolas Domingos da Silva (uN1CK)",
      "userId": "17516801278767574834"
     },
     "user_tz": 180
    },
    "id": "JXzbrpVBiWEz"
   },
   "source": [
    "import warnings\n",
    "warnings.filterwarnings(\"ignore\", category=FutureWarning)"
   ],
   "outputs": [],
   "execution_count": null
  },
  {
   "metadata": {},
   "cell_type": "code",
   "source": [
    "path = os.getcwd()\n",
    "path = path[0:87]\n",
    "path += '/archives/DadosTratadosDolar.csv'\n",
    "print(path)"
   ],
   "outputs": [],
   "execution_count": null
  },
  {
   "cell_type": "code",
   "metadata": {
    "executionInfo": {
     "elapsed": 293,
     "status": "ok",
     "timestamp": 1724272016748,
     "user": {
      "displayName": "Nicolas Domingos da Silva (uN1CK)",
      "userId": "17516801278767574834"
     },
     "user_tz": 180
    },
    "id": "M_9fWYKyh0zY"
   },
   "source": "df = pd.read_csv(path, sep = ',', encoding = 'iso-8859-1')",
   "outputs": [],
   "execution_count": null
  },
  {
   "cell_type": "code",
   "metadata": {
    "id": "3H8LiSWWi5Sq"
   },
   "source": [
    "df.head(10)"
   ],
   "outputs": [],
   "execution_count": null
  },
  {
   "cell_type": "code",
   "metadata": {
    "colab": {
     "base_uri": "https://localhost:8080/"
    },
    "executionInfo": {
     "elapsed": 300,
     "status": "ok",
     "timestamp": 1724271332843,
     "user": {
      "displayName": "Nicolas Domingos da Silva (uN1CK)",
      "userId": "17516801278767574834"
     },
     "user_tz": 180
    },
    "id": "wmW6qfNNlEvV",
    "outputId": "b4d6d007-90f2-4d2f-f143-2b0cb42b0ca2"
   },
   "source": [
    "df.shape"
   ],
   "outputs": [],
   "execution_count": null
  },
  {
   "cell_type": "code",
   "metadata": {
    "id": "cnlHHpGblGYu"
   },
   "source": [
    "df.dtypes"
   ],
   "outputs": [],
   "execution_count": null
  },
  {
   "cell_type": "code",
   "metadata": {
    "executionInfo": {
     "elapsed": 286,
     "status": "ok",
     "timestamp": 1724272020963,
     "user": {
      "displayName": "Nicolas Domingos da Silva (uN1CK)",
      "userId": "17516801278767574834"
     },
     "user_tz": 180
    },
    "id": "kTPTtqIVlKmb"
   },
   "source": [
    "df['datas'] = df['datas'].astype(str)"
   ],
   "outputs": [],
   "execution_count": null
  },
  {
   "cell_type": "code",
   "metadata": {
    "executionInfo": {
     "elapsed": 298,
     "status": "ok",
     "timestamp": 1724272022915,
     "user": {
      "displayName": "Nicolas Domingos da Silva (uN1CK)",
      "userId": "17516801278767574834"
     },
     "user_tz": 180
    },
    "id": "_10U5_OymOLM"
   },
   "source": [
    "for i in range(0,7):\n",
    "  valor = df.loc[i, 'datas']\n",
    "  df.loc[i, 'datas'] = '0' + valor"
   ],
   "outputs": [],
   "execution_count": null
  },
  {
   "cell_type": "code",
   "metadata": {
    "executionInfo": {
     "elapsed": 289,
     "status": "ok",
     "timestamp": 1724272025623,
     "user": {
      "displayName": "Nicolas Domingos da Silva (uN1CK)",
      "userId": "17516801278767574834"
     },
     "user_tz": 180
    },
    "id": "lF0-pUEenCUx"
   },
   "source": [
    "df['datas'] = df['datas'].apply(lambda x: x[:2] + '/' + x[2:4] + '/' + x[4:])"
   ],
   "outputs": [],
   "execution_count": null
  },
  {
   "cell_type": "code",
   "metadata": {
    "id": "z12BBZB1nyeY"
   },
   "source": [
    "df.head(20)"
   ],
   "outputs": [],
   "execution_count": null
  },
  {
   "cell_type": "code",
   "metadata": {
    "id": "rMuvycwHn7Kz"
   },
   "source": [
    "df['datas'] = pd.to_datetime(df['datas'], format='%d/%m/%Y')\n",
    "df.head()"
   ],
   "outputs": [],
   "execution_count": null
  },
  {
   "cell_type": "code",
   "metadata": {
    "id": "lPIGzl5WoqN5"
   },
   "source": [
    "compra = df['compra']\n",
    "compra"
   ],
   "outputs": [],
   "execution_count": null
  },
  {
   "cell_type": "code",
   "metadata": {
    "id": "AaN9EMLRpD_J"
   },
   "source": [
    "freq_absoluta = Counter(compra)\n",
    "freq_absoluta"
   ],
   "outputs": [],
   "execution_count": null
  },
  {
   "cell_type": "code",
   "metadata": {
    "id": "BJPC2JQpplci"
   },
   "source": [
    "tabela = pd.DataFrame.from_dict(freq_absoluta, orient = 'index')\n",
    "tabela"
   ],
   "outputs": [],
   "execution_count": null
  },
  {
   "cell_type": "code",
   "metadata": {
    "id": "1pU-U6wCqBf5"
   },
   "source": [
    "tabela = tabela.sort_index(ascending = True)\n",
    "tabela"
   ],
   "outputs": [],
   "execution_count": null
  },
  {
   "cell_type": "code",
   "metadata": {
    "id": "qWXMy6RFqYEj"
   },
   "source": [
    "tabela.reset_index(inplace = True)\n",
    "tabela"
   ],
   "outputs": [],
   "execution_count": null
  },
  {
   "cell_type": "code",
   "metadata": {
    "id": "M3lcyhk1qsWM"
   },
   "source": [
    "tabela = tabela.rename(columns={'index': 'valor'})\n",
    "tabela.head()"
   ],
   "outputs": [],
   "execution_count": null
  },
  {
   "cell_type": "code",
   "metadata": {
    "id": "8yRUDstFrCI2"
   },
   "source": [
    "tabela = tabela.rename(columns={0: 'freq_abs'})\n",
    "tabela.head()"
   ],
   "outputs": [],
   "execution_count": null
  },
  {
   "cell_type": "code",
   "metadata": {
    "id": "Ij2M1nZ0rXto"
   },
   "source": [
    "tabela['freq_rel'] = (tabela['freq_abs']/tabela['freq_abs'].sum())\n",
    "tabela"
   ],
   "outputs": [],
   "execution_count": null
  },
  {
   "cell_type": "code",
   "metadata": {
    "executionInfo": {
     "elapsed": 288,
     "status": "ok",
     "timestamp": 1724273280135,
     "user": {
      "displayName": "Nicolas Domingos da Silva (uN1CK)",
      "userId": "17516801278767574834"
     },
     "user_tz": 180
    },
    "id": "NCRmOyO9r1lo"
   },
   "source": [
    "tabela['freq_rel_perc'] = tabela['freq_rel']*100"
   ],
   "outputs": [],
   "execution_count": null
  },
  {
   "cell_type": "code",
   "metadata": {
    "id": "P3v-GBqIsIQh"
   },
   "source": [
    "tabela['freq_acum'] = tabela['freq_abs'].cumsum()\n",
    "tabela"
   ],
   "outputs": [],
   "execution_count": null
  },
  {
   "cell_type": "code",
   "metadata": {
    "colab": {
     "base_uri": "https://localhost:8080/"
    },
    "executionInfo": {
     "elapsed": 272,
     "status": "ok",
     "timestamp": 1724273369093,
     "user": {
      "displayName": "Nicolas Domingos da Silva (uN1CK)",
      "userId": "17516801278767574834"
     },
     "user_tz": 180
    },
    "id": "Zg7NNsU5sqtW",
    "outputId": "812927b1-916f-4f52-b73f-445cc5fa9b80"
   },
   "source": [
    "tabela.valor.min()"
   ],
   "outputs": [],
   "execution_count": null
  },
  {
   "cell_type": "code",
   "metadata": {
    "colab": {
     "base_uri": "https://localhost:8080/"
    },
    "executionInfo": {
     "elapsed": 384,
     "status": "ok",
     "timestamp": 1724273371006,
     "user": {
      "displayName": "Nicolas Domingos da Silva (uN1CK)",
      "userId": "17516801278767574834"
     },
     "user_tz": 180
    },
    "id": "XazVd-w4sxc9",
    "outputId": "93eda929-cddf-4b1e-9825-72e0a82b49d4"
   },
   "source": [
    "tabela.valor.max()"
   ],
   "outputs": [],
   "execution_count": null
  },
  {
   "cell_type": "code",
   "metadata": {
    "colab": {
     "base_uri": "https://localhost:8080/"
    },
    "executionInfo": {
     "elapsed": 330,
     "status": "ok",
     "timestamp": 1724273373506,
     "user": {
      "displayName": "Nicolas Domingos da Silva (uN1CK)",
      "userId": "17516801278767574834"
     },
     "user_tz": 180
    },
    "id": "kP7OySYJszCv",
    "outputId": "aaaa2404-3ce0-43fc-9639-67db1a18e8d9"
   },
   "source": [
    "dif = tabela.valor.max() - tabela.valor.min()\n",
    "dif"
   ],
   "outputs": [],
   "execution_count": null
  },
  {
   "cell_type": "code",
   "metadata": {
    "executionInfo": {
     "elapsed": 268,
     "status": "ok",
     "timestamp": 1724273502672,
     "user": {
      "displayName": "Nicolas Domingos da Silva (uN1CK)",
      "userId": "17516801278767574834"
     },
     "user_tz": 180
    },
    "id": "5TztGOLks8H5"
   },
   "source": [
    "classes = [5.3,5.4,5.5,5.6,5.7]"
   ],
   "outputs": [],
   "execution_count": null
  },
  {
   "cell_type": "code",
   "metadata": {
    "executionInfo": {
     "elapsed": 282,
     "status": "ok",
     "timestamp": 1724273504406,
     "user": {
      "displayName": "Nicolas Domingos da Silva (uN1CK)",
      "userId": "17516801278767574834"
     },
     "user_tz": 180
    },
    "id": "dWagZUtotPUp"
   },
   "source": [
    "labels = ['5.3 - 5.4', '5.4 - 5.5', '5.5 - 5.6', '5.6 - 5.7']"
   ],
   "outputs": [],
   "execution_count": null
  },
  {
   "cell_type": "code",
   "metadata": {
    "executionInfo": {
     "elapsed": 285,
     "status": "ok",
     "timestamp": 1724273655971,
     "user": {
      "displayName": "Nicolas Domingos da Silva (uN1CK)",
      "userId": "17516801278767574834"
     },
     "user_tz": 180
    },
    "id": "mM4k8943tdTU"
   },
   "source": [
    "intervalos = pd.cut(x = tabela.valor, bins = classes, labels = labels, include_lowest = True)"
   ],
   "outputs": [],
   "execution_count": null
  },
  {
   "cell_type": "code",
   "metadata": {
    "id": "yFTliqvEuKpA"
   },
   "source": [
    "freq_abs = pd.value_counts(intervalos)\n",
    "freq_abs"
   ],
   "outputs": [],
   "execution_count": null
  },
  {
   "cell_type": "code",
   "metadata": {
    "id": "fflhWwfcumSi"
   },
   "source": [
    "freq_rel = pd.value_counts(intervalos, normalize = True)\n",
    "freq_rel"
   ],
   "outputs": [],
   "execution_count": null
  },
  {
   "cell_type": "code",
   "metadata": {
    "id": "h--V9CJku7Di"
   },
   "source": [
    "dist_freq = pd.DataFrame({'Frequência absoluta': freq_abs, 'Frequência relativa': freq_rel})\n",
    "dist_freq"
   ],
   "outputs": [],
   "execution_count": null
  },
  {
   "cell_type": "code",
   "metadata": {
    "id": "QQDeKefbvLun"
   },
   "source": [
    "dist_freq.sort_index(ascending = True, inplace = True)\n",
    "dist_freq"
   ],
   "outputs": [],
   "execution_count": null
  },
  {
   "cell_type": "code",
   "metadata": {
    "id": "Q92oyApeva1o"
   },
   "source": [
    "dist_freq['freq_rel_perc'] = np.round(dist_freq['Frequência relativa']*100,2)\n",
    "dist_freq"
   ],
   "outputs": [],
   "execution_count": null
  },
  {
   "cell_type": "code",
   "metadata": {
    "id": "hHDvCl7vvuIq"
   },
   "source": [
    "dist_freq['freq_acum'] = dist_freq['Frequência absoluta'].cumsum()\n",
    "dist_freq"
   ],
   "outputs": [],
   "execution_count": null
  },
  {
   "cell_type": "markdown",
   "metadata": {
    "id": "2TLZQ2NfwPn3"
   },
   "source": [
    "# Histograma"
   ]
  },
  {
   "cell_type": "markdown",
   "metadata": {
    "id": "ylj4Jna3w-Jc"
   },
   "source": [
    "## Matplotlib"
   ]
  },
  {
   "cell_type": "code",
   "metadata": {
    "executionInfo": {
     "elapsed": 296,
     "status": "ok",
     "timestamp": 1724274321297,
     "user": {
      "displayName": "Nicolas Domingos da Silva (uN1CK)",
      "userId": "17516801278767574834"
     },
     "user_tz": 180
    },
    "id": "Xi85SpFowTos"
   },
   "source": [
    "import matplotlib.pyplot as plt"
   ],
   "outputs": [],
   "execution_count": null
  },
  {
   "cell_type": "code",
   "metadata": {
    "id": "Gm3YfFkFwYtj"
   },
   "source": [
    "from matplotlib import colors\n",
    "plt.hist(df.compra, bins = 5, color = 'red')\n",
    "plt.title('Histograma')\n",
    "plt.xlabel('Compra')\n",
    "plt.ylabel('Frequência')\n",
    "plt.show()"
   ],
   "outputs": [],
   "execution_count": null
  },
  {
   "cell_type": "markdown",
   "metadata": {
    "id": "NIG4ne6cxAxB"
   },
   "source": [
    "## Seaborn"
   ]
  },
  {
   "cell_type": "code",
   "metadata": {
    "executionInfo": {
     "elapsed": 1797,
     "status": "ok",
     "timestamp": 1724274467178,
     "user": {
      "displayName": "Nicolas Domingos da Silva (uN1CK)",
      "userId": "17516801278767574834"
     },
     "user_tz": 180
    },
    "id": "OkXA5e2kxC8M"
   },
   "source": "# import seaborn as sns",
   "outputs": [],
   "execution_count": null
  },
  {
   "cell_type": "code",
   "metadata": {
    "id": "NXEyb9SaxF3V"
   },
   "source": "# sns.histplot(df.venda, bins = 5, color = 'red', kde = True);",
   "outputs": [],
   "execution_count": null
  },
  {
   "cell_type": "markdown",
   "metadata": {
    "id": "OW_8iTZoxlUt"
   },
   "source": [
    "## Plotly"
   ]
  },
  {
   "cell_type": "code",
   "metadata": {
    "id": "08vlgAFWxnDw"
   },
   "source": [
    "# import plotly.express as px\n",
    "# grafico = px.histogram(df, x = 'compra', nbins = 10)\n",
    "# grafico.update_layout(width = 500, height = 400, title_text = 'Histograma')\n",
    "# grafico.show()"
   ],
   "outputs": [],
   "execution_count": null
  }
 ],
 "metadata": {
  "colab": {
   "authorship_tag": "ABX9TyN8OCfRPSnlfR1KMvwTlQgy",
   "mount_file_id": "1hmfvjPP5VfIPtm0n_1Ph_tT7ANO9T68f",
   "provenance": []
  },
  "kernelspec": {
   "display_name": "Python 3 (ipykernel)",
   "name": "python3",
   "language": "python"
  },
  "language_info": {
   "codemirror_mode": {
    "name": "ipython",
    "version": 3
   },
   "file_extension": ".py",
   "mimetype": "text/x-python",
   "name": "python",
   "nbconvert_exporter": "python",
   "pygments_lexer": "ipython3",
   "version": "3.11.0"
  }
 },
 "nbformat": 4,
 "nbformat_minor": 0
}
